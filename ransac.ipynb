{
 "cells": [
  {
   "cell_type": "markdown",
   "metadata": {},
   "source": [
    "## Linear Regression and RANSAC"
   ]
  },
  {
   "cell_type": "raw",
   "metadata": {},
   "source": [
    "This example is adapted from: https://scikit-learn.org/stable/auto_examples/linear_model/plot_ransac.html"
   ]
  },
  {
   "cell_type": "code",
   "execution_count": 2,
   "metadata": {},
   "outputs": [],
   "source": [
    "# Load the modules we need\n",
    "import numpy as np\n",
    "from matplotlib import pyplot as plt\n",
    "from sklearn import linear_model, datasets"
   ]
  },
  {
   "cell_type": "code",
   "execution_count": 3,
   "metadata": {},
   "outputs": [],
   "source": [
    "#  Create some intial data\n",
    "n_samples = 1000\n",
    "\n",
    "X, y = datasets.make_regression(n_samples=n_samples, n_features=1,\n",
    "                                      n_informative=1, noise=10,\n",
    "                                      random_state=0)"
   ]
  },
  {
   "cell_type": "code",
   "execution_count": 4,
   "metadata": {},
   "outputs": [],
   "source": [
    "# Add some outlier data\n",
    "np.random.seed(0)\n",
    "n_outliers = 50\n",
    "X[:n_outliers] = 3 + 0.5 * np.random.normal(size=(n_outliers, 1))\n",
    "y[:n_outliers] = -3 + 10 * np.random.normal(size=n_outliers)"
   ]
  },
  {
   "cell_type": "code",
   "execution_count": 5,
   "metadata": {},
   "outputs": [],
   "source": [
    "# Create some test positions for for the lines we will draw\n",
    "line_X = np.arange(X.min(), X.max())[:, np.newaxis]"
   ]
  },
  {
   "cell_type": "code",
   "execution_count": 6,
   "metadata": {
    "scrolled": true
   },
   "outputs": [
    {
     "name": "stdout",
     "output_type": "stream",
     "text": [
      "[-174.38323639 -120.21087252  -66.03850865  -11.86614478   42.30621909\n",
      "   96.47858295  150.65094682  204.82331069]\n"
     ]
    }
   ],
   "source": [
    "# This is the cell you need to replace to complete Task 2.\n",
    "# Fit line using all data.\n",
    "lr = linear_model.LinearRegression()\n",
    "lr.fit(X, y)\n",
    "line_y = lr.predict(line_X)\n",
    "print(line_y)"
   ]
  },
  {
   "cell_type": "code",
   "execution_count": 7,
   "metadata": {},
   "outputs": [
    {
     "name": "stdout",
     "output_type": "stream",
     "text": [
      "[-174.38323639022192, -120.21087252120681, -66.03850865219167, -11.866144783176534, 42.306219085838606, 96.47858295485374, 150.65094682386888, 204.82331069288404]\n"
     ]
    }
   ],
   "source": [
    "# LINEAREARTEA\n",
    "\n",
    "def var(vals, mean, n):\n",
    "    tot = 0\n",
    "    for i in range(n):\n",
    "        tot += (vals[i]-mean)**2\n",
    "    return tot\n",
    "    #var = sum([(i-mean)**2 for i in values])\n",
    "\n",
    "def cov(X, X_mean, y, y_mean, n):\n",
    "    cov = float()\n",
    "    for i in range(n):\n",
    "        cov += (X[i] - X_mean) * (y[i] - y_mean)\n",
    "    return cov\n",
    "\n",
    "def fit(X, y):\n",
    "    n = len(X)\n",
    "    X_mean = np.mean(X)\n",
    "    y_mean = np.mean(y)\n",
    "    X_var = var(X, X_mean, n)\n",
    "    covariance = cov(X, X_mean, y, y_mean, n)\n",
    "    m = covariance/X_var\n",
    "    c = y_mean - m * X_mean\n",
    "    return (m, c)\n",
    "\n",
    "def predict(values, model):\n",
    "    predicted_points = []\n",
    "    for value in values:\n",
    "        point = model[0]*value + model[1]\n",
    "        predicted_points.append(point.item())\n",
    "    return predicted_points\n",
    "\n",
    "model = fit(X, y)\n",
    "my_y = predict(line_X, model)\n",
    "print(my_y)"
   ]
  },
  {
   "cell_type": "code",
   "execution_count": 21,
   "metadata": {},
   "outputs": [
    {
     "name": "stdout",
     "output_type": "stream",
     "text": [
      "[-249.81104528 -167.72571369  -85.64038211   -3.55505052   78.53028107\n",
      "  160.61561265  242.70094424  324.78627583]\n"
     ]
    }
   ],
   "source": [
    "# This is the cell you need to replace to complete Task 3.\n",
    "# Robustly fit linear model with RANSAC algorithm\n",
    "ransac = linear_model.RANSACRegressor()\n",
    "ransac.fit(X, y)\n",
    "\n",
    "# Predict data of estimated models\n",
    "line_y_ransac = ransac.predict(line_X)\n",
    "print(line_y_ransac)\n",
    "\n",
    "# Label the if source data is inlier or outlier\n",
    "inlier_mask = ransac.inlier_mask_\n",
    "outlier_mask = np.logical_not(inlier_mask)"
   ]
  },
  {
   "cell_type": "code",
   "execution_count": 40,
   "metadata": {
    "scrolled": true
   },
   "outputs": [
    {
     "name": "stdout",
     "output_type": "stream",
     "text": [
      "[-253.18472421781155, -169.8724805462452, -86.5602368746789, -3.2479932031125807, 80.06425046845374, 163.37649414002007, 246.68873781158638, 330.0009814831527]\n"
     ]
    }
   ],
   "source": [
    "# RANSACSACSACSACSACSACASC\n",
    "\n",
    "# using 2 points, find line\n",
    "# calculate amount of inliers with that line\n",
    "# if more than max, set as new max\n",
    "# for a number of iterations, get the max one\n",
    "\n",
    "def find_line(points):\n",
    "    m = (points[1][1]-points[0][1])/(points[1][0]-points[0][0])\n",
    "    c = points[1][1]-(m*(points[1][0]))\n",
    "    return (m, c)\n",
    "\n",
    "def distance(point, model):\n",
    "    num = abs(model[0]*point[0] - point[1]+model[1])\n",
    "    den = np.sqrt(model[0]**2)\n",
    "    return num/den\n",
    "\n",
    "def ransac_fit(X, y, iterations, tolerance):\n",
    "    max_inliers = 0\n",
    "    best_model = None\n",
    "    \n",
    "    for i in range(iterations):\n",
    "        #choose two points at random\n",
    "        #find the line\n",
    "        #find the inliers\n",
    "        #check if more than max\n",
    "        #if so, set as new leading model and set max\n",
    "        #return at end\n",
    "        idx1 = np.random.randint(len(X))\n",
    "        idx2 = np.random.randint(len(X))\n",
    "        cur_points = ((X[idx1], y[idx1]),(X[idx2], y[idx2]))\n",
    "        cur_model = find_line(cur_points)\n",
    "        cur_inliers = 0\n",
    "        for j in range(len(X)):\n",
    "            cur_point = (X[j], y[j])\n",
    "            if distance(cur_point, cur_model) < tolerance:\n",
    "                cur_inliers += 1\n",
    "        if cur_inliers > max_inliers:\n",
    "            max_inliers = cur_inliers\n",
    "            best_model = cur_model\n",
    "                \n",
    "    return best_model\n",
    "\n",
    "def ransac_predict(values, model):\n",
    "    predicted_points = []\n",
    "    for value in values:\n",
    "        point = model[0]*value + model[1]\n",
    "        predicted_points.append(point.item())\n",
    "    return predicted_points\n",
    "\n",
    "def ransac_inliers(X_vals, y_vals, model, tolerance):\n",
    "    X_size = len(X_vals)\n",
    "    inliers = np.zeros(X_size, dtype=bool)\n",
    "    for i in range(X_size):\n",
    "        cur_point = (X_vals[i], y_vals[i])\n",
    "        if distance(cur_point, model) < tolerance:\n",
    "            inliers[i] = True\n",
    "    return inliers\n",
    "\n",
    "iterations = 100\n",
    "tolerance = 0.4 \n",
    "\n",
    "ransac_model = ransac_fit(X, y, iterations, tolerance)\n",
    "my_y_ransac = ransac_predict(line_X, ransac_model)\n",
    "my_inlier_mask = ransac_inliers(X, y, ransac_model, tolerance)\n",
    "my_outliar_mask = np.logical_not(my_inlier_mask)\n",
    "\n",
    "print(my_y_ransac)"
   ]
  },
  {
   "cell_type": "code",
   "execution_count": 41,
   "metadata": {},
   "outputs": [
    {
     "data": {
      "image/png": "[encoded data removed]",
      "text/plain": [
       "<Figure size 432x288 with 1 Axes>"
      ]
     },
     "metadata": {
      "needs_background": "light"
     },
     "output_type": "display_data"
    }
   ],
   "source": [
    "lw = 2\n",
    "\n",
    "doing_linear = True\n",
    "doing_ransac = True\n",
    "\n",
    "if (doing_linear):\n",
    "    plt.plot(line_X, line_y, color='navy', linewidth=lw, label='Linear regressor')\n",
    "    plt.plot(line_X, my_y, color='blue', linewidth=lw, label='My linear regressor')\n",
    "\n",
    "if (doing_ransac):\n",
    "    plt.scatter(X[my_inlier_mask], y[my_inlier_mask], color='yellowgreen', marker='.', label='Inliers')\n",
    "    plt.scatter(X[my_outliar_mask], y[my_outliar_mask], color='gold', marker='.', label='Outliers')\n",
    "    plt.plot(line_X, line_y_ransac, color='cornflowerblue', linewidth=lw, label='RANSAC regressor')\n",
    "    plt.plot(line_X, my_y_ransac, color='green', linewidth=lw, label='My RANSAC regressor')\n",
    "else:\n",
    "    plt.scatter(X, y, color='yellowgreen', marker='.', label='Data')\n",
    "    \n",
    "plt.legend(loc='lower right')\n",
    "plt.xlabel(\"Input\")\n",
    "plt.ylabel(\"Response\")\n",
    "plt.show()"
   ]
  },
  {
   "cell_type": "code",
   "execution_count": null,
   "metadata": {},
   "outputs": [],
   "source": []
  }
 ],
 "metadata": {
  "kernelspec": {
   "display_name": "Python 3 (ipykernel)",
   "language": "python",
   "name": "python3"
  },
  "language_info": {
   "codemirror_mode": {
    "name": "ipython",
    "version": 3
   },
   "file_extension": ".py",
   "mimetype": "text/x-python",
   "name": "python",
   "nbconvert_exporter": "python",
   "pygments_lexer": "ipython3",
   "version": "3.9.6"
  }
 },
 "nbformat": 4,
 "nbformat_minor": 2
}
