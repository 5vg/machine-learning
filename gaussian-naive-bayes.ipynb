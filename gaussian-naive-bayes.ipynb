{
 "cells": [
  {
   "cell_type": "code",
   "execution_count": 1,
   "id": "magnetic-syndication",
   "metadata": {},
   "outputs": [],
   "source": [
    "import pandas as pd"
   ]
  },
  {
   "cell_type": "code",
   "execution_count": 2,
   "id": "acting-triumph",
   "metadata": {
    "scrolled": true
   },
   "outputs": [
    {
     "data": {
      "text/html": [
       "<div>\n",
       "<style scoped>\n",
       "    .dataframe tbody tr th:only-of-type {\n",
       "        vertical-align: middle;\n",
       "    }\n",
       "\n",
       "    .dataframe tbody tr th {\n",
       "        vertical-align: top;\n",
       "    }\n",
       "\n",
       "    .dataframe thead th {\n",
       "        text-align: right;\n",
       "    }\n",
       "</style>\n",
       "<table border=\"1\" class=\"dataframe\">\n",
       "  <thead>\n",
       "    <tr style=\"text-align: right;\">\n",
       "      <th></th>\n",
       "      <th>fruit_label</th>\n",
       "      <th>fruit_name</th>\n",
       "      <th>fruit_subtype</th>\n",
       "      <th>mass</th>\n",
       "      <th>width</th>\n",
       "      <th>height</th>\n",
       "      <th>color_score</th>\n",
       "    </tr>\n",
       "  </thead>\n",
       "  <tbody>\n",
       "    <tr>\n",
       "      <th>0</th>\n",
       "      <td>1</td>\n",
       "      <td>apple</td>\n",
       "      <td>granny_smith</td>\n",
       "      <td>192</td>\n",
       "      <td>8.4</td>\n",
       "      <td>7.3</td>\n",
       "      <td>0.55</td>\n",
       "    </tr>\n",
       "    <tr>\n",
       "      <th>1</th>\n",
       "      <td>1</td>\n",
       "      <td>apple</td>\n",
       "      <td>granny_smith</td>\n",
       "      <td>180</td>\n",
       "      <td>8.0</td>\n",
       "      <td>6.8</td>\n",
       "      <td>0.59</td>\n",
       "    </tr>\n",
       "    <tr>\n",
       "      <th>2</th>\n",
       "      <td>1</td>\n",
       "      <td>apple</td>\n",
       "      <td>granny_smith</td>\n",
       "      <td>176</td>\n",
       "      <td>7.4</td>\n",
       "      <td>7.2</td>\n",
       "      <td>0.60</td>\n",
       "    </tr>\n",
       "    <tr>\n",
       "      <th>3</th>\n",
       "      <td>2</td>\n",
       "      <td>mandarin</td>\n",
       "      <td>mandarin</td>\n",
       "      <td>86</td>\n",
       "      <td>6.2</td>\n",
       "      <td>4.7</td>\n",
       "      <td>0.80</td>\n",
       "    </tr>\n",
       "    <tr>\n",
       "      <th>4</th>\n",
       "      <td>2</td>\n",
       "      <td>mandarin</td>\n",
       "      <td>mandarin</td>\n",
       "      <td>84</td>\n",
       "      <td>6.0</td>\n",
       "      <td>4.6</td>\n",
       "      <td>0.79</td>\n",
       "    </tr>\n",
       "  </tbody>\n",
       "</table>\n",
       "</div>"
      ],
      "text/plain": [
       "   fruit_label fruit_name fruit_subtype  mass  width  height  color_score\n",
       "0            1      apple  granny_smith   192    8.4     7.3         0.55\n",
       "1            1      apple  granny_smith   180    8.0     6.8         0.59\n",
       "2            1      apple  granny_smith   176    7.4     7.2         0.60\n",
       "3            2   mandarin      mandarin    86    6.2     4.7         0.80\n",
       "4            2   mandarin      mandarin    84    6.0     4.6         0.79"
      ]
     },
     "execution_count": 2,
     "metadata": {},
     "output_type": "execute_result"
    }
   ],
   "source": [
    "fruit = pd.read_table(\"c:/Users/alex/ml/fruit_data_with_colors.txt\")\n",
    "fruit.head()"
   ]
  },
  {
   "cell_type": "code",
   "execution_count": 3,
   "id": "adequate-auction",
   "metadata": {},
   "outputs": [],
   "source": [
    "from sklearn.model_selection import train_test_split"
   ]
  },
  {
   "cell_type": "code",
   "execution_count": 4,
   "id": "alive-oxide",
   "metadata": {},
   "outputs": [],
   "source": [
    "X, y = fruit.iloc[:,3:], fruit.iloc[:,1]\n",
    "X_train, X_test, y_train, y_test = train_test_split(X, y, test_size=0.3, random_state=4321)"
   ]
  },
  {
   "cell_type": "code",
   "execution_count": 5,
   "id": "exotic-coordination",
   "metadata": {},
   "outputs": [],
   "source": [
    "from sklearn.preprocessing import StandardScaler"
   ]
  },
  {
   "cell_type": "code",
   "execution_count": 6,
   "id": "responsible-committee",
   "metadata": {},
   "outputs": [],
   "source": [
    "sc = StandardScaler()\n",
    "sc.fit(X_train)\n",
    "\n",
    "X_train = sc.transform(X_train)\n",
    "X_test = sc.transform(X_test)"
   ]
  },
  {
   "cell_type": "code",
   "execution_count": 7,
   "id": "twelve-correspondence",
   "metadata": {},
   "outputs": [],
   "source": [
    "from sklearn.neighbors import KNeighborsClassifier\n",
    "from sklearn import metrics"
   ]
  },
  {
   "cell_type": "code",
   "execution_count": 8,
   "id": "former-respondent",
   "metadata": {
    "scrolled": false
   },
   "outputs": [
    {
     "name": "stdout",
     "output_type": "stream",
     "text": [
      "1 :\n",
      "[[7 0 0 0]\n",
      " [0 2 0 0]\n",
      " [0 0 3 0]\n",
      " [0 0 0 6]]\n",
      "kNN %): 100.0\n",
      "2 :\n",
      "[[7 0 0 0]\n",
      " [0 2 0 0]\n",
      " [0 0 3 0]\n",
      " [0 0 0 6]]\n",
      "kNN %): 100.0\n",
      "3 :\n",
      "[[7 0 0 0]\n",
      " [0 2 0 0]\n",
      " [0 0 3 0]\n",
      " [0 0 0 6]]\n",
      "kNN %): 100.0\n",
      "4 :\n",
      "[[7 0 0 0]\n",
      " [0 2 0 0]\n",
      " [0 0 3 0]\n",
      " [0 0 0 6]]\n",
      "kNN %): 100.0\n",
      "5 :\n",
      "[[4 0 0 3]\n",
      " [0 2 0 0]\n",
      " [0 3 0 0]\n",
      " [0 0 0 6]]\n",
      "kNN %): 66.66666666666666\n",
      "6 :\n",
      "[[4 0 0 3]\n",
      " [0 2 0 0]\n",
      " [0 3 0 0]\n",
      " [0 1 0 5]]\n",
      "kNN %): 61.111111111111114\n",
      "7 :\n",
      "[[2 0 0 5]\n",
      " [0 2 0 0]\n",
      " [0 2 0 1]\n",
      " [0 0 0 6]]\n",
      "kNN %): 55.55555555555556\n",
      "8 :\n",
      "[[2 0 0 5]\n",
      " [0 2 0 0]\n",
      " [0 2 0 1]\n",
      " [0 2 0 4]]\n",
      "kNN %): 44.44444444444444\n"
     ]
    }
   ],
   "source": [
    "for i in range(1,9):\n",
    "    \n",
    "    print(i, \":\")\n",
    "    \n",
    "    cf = KNeighborsClassifier(n_neighbors=i)\n",
    "    cf.fit(X_train, y_train)\n",
    "    \n",
    "    y_pred = cf.predict(X_test)\n",
    "    \n",
    "    print(metrics.confusion_matrix(y_test, y_pred))\n",
    "    print(\"kNN %):\", metrics.accuracy_score(y_test, y_pred)*100)"
   ]
  },
  {
   "cell_type": "code",
   "execution_count": 9,
   "id": "stock-discretion",
   "metadata": {},
   "outputs": [],
   "source": [
    "from sklearn.naive_bayes import GaussianNB"
   ]
  },
  {
   "cell_type": "code",
   "execution_count": 10,
   "id": "proper-extension",
   "metadata": {},
   "outputs": [
    {
     "name": "stdout",
     "output_type": "stream",
     "text": [
      "['apple' 'orange' 'apple' 'apple' 'apple' 'mandarin' 'apple' 'lemon'\n",
      " 'orange' 'orange' 'apple' 'orange' 'apple' 'lemon' 'mandarin' 'apple'\n",
      " 'apple' 'mandarin']\n",
      "[[7 0 0 0]\n",
      " [0 2 0 0]\n",
      " [0 0 3 0]\n",
      " [2 0 0 4]]\n",
      "GNB %): 88.88888888888889\n"
     ]
    }
   ],
   "source": [
    "gnb = GaussianNB()\n",
    "gnb.fit(X_train, y_train)\n",
    "y_pred = gnb.predict(X_test)\n",
    "\n",
    "print(metrics.confusion_matrix(y_test, y_pred))\n",
    "print(\"GNB %):\", metrics.accuracy_score(y_test, y_pred)*100)"
   ]
  },
  {
   "cell_type": "code",
   "execution_count": 17,
   "id": "pressed-diary",
   "metadata": {},
   "outputs": [],
   "source": [
    "import numpy as np\n",
    "import math\n",
    "import sys"
   ]
  },
  {
   "cell_type": "code",
   "execution_count": 20,
   "id": "general-signature",
   "metadata": {},
   "outputs": [
    {
     "name": "stdout",
     "output_type": "stream",
     "text": [
      "['apple', 'orange', 'apple', 'apple', 'apple', 'mandarin', 'apple', 'lemon', 'orange', 'orange', 'apple', 'orange', 'apple', 'lemon', 'mandarin', 'apple', 'apple', 'mandarin']\n",
      "[[7 0 0 0]\n",
      " [0 2 0 0]\n",
      " [0 0 3 0]\n",
      " [2 0 0 4]]\n",
      "coded GNB %): 88.88888888888889\n"
     ]
    }
   ],
   "source": [
    "def separate_by_class(X, y):\n",
    "    separated = {}\n",
    "    c = 0\n",
    "    for val in y:\n",
    "        values = X[c]\n",
    "        if(val not in separated):\n",
    "            separated[val] = list()\n",
    "        separated[val].append(values)\n",
    "        c+=1\n",
    "    return separated\n",
    "\n",
    "def individual_distribution(X):\n",
    "    return [(np.mean(column), np.std(column), len(column)) for column in zip(*X)]\n",
    "\n",
    "def class_distributions(X, y):\n",
    "    separated = separate_by_class(X, y)\n",
    "    distributions = {}\n",
    "    for val, rows in separated.items():\n",
    "        distributions[val] = individual_distribution(rows)\n",
    "    return distributions\n",
    "\n",
    "def calc_probability(x, mean, stdev):\n",
    "    exponent = math.exp(-((x-mean)**2/(2*stdev**2)))\n",
    "    probability = (1/(math.sqrt(2*math.pi)*stdev))*exponent\n",
    "    if probability == 0:\n",
    "        probability = sys.float_info.min\n",
    "    return probability\n",
    "\n",
    "def class_probability(distributions, row):\n",
    "    rows = sum([distributions[val][0][2] for val in distributions])\n",
    "    probabilities = {}\n",
    "    for val, val_distribution in distributions.items():\n",
    "        probabilities[val] = math.log(distributions[val][0][2]/float(rows))\n",
    "        for i in range(len(val_distribution)):\n",
    "            mean, stdev, count = val_distribution[i]\n",
    "            probabilities[val] += math.log(calc_probability(row[i], mean, stdev))\n",
    "    return probabilities\n",
    "\n",
    "def predict(distributions, row):\n",
    "    probabilities = class_probability(distributions, row)\n",
    "    best_guess, best_prob = None, -math.inf\n",
    "    for val, probability in probabilities.items():\n",
    "        if best_guess is None or best_prob < probability:\n",
    "            best_prob = probability\n",
    "            best_guess = val\n",
    "    return best_guess\n",
    "\n",
    "def get_predictions(distributions, X_test):\n",
    "    predictions = []\n",
    "    for row in X_test:\n",
    "        predictions.append(predict(distributions, row))\n",
    "    return predictions\n",
    "\n",
    "distributions = class_distributions(X_train, y_train)\n",
    "y_pred = get_predictions(distributions, X_test)\n",
    "\n",
    "print(y_pred)\n",
    "print(metrics.confusion_matrix(y_test, y_pred))\n",
    "print(\"Coded GNB %):\", metrics.accuracy_score(y_test, y_pred)*100)"
   ]
  }
 ],
 "metadata": {
  "kernelspec": {
   "display_name": "Python 3",
   "language": "python",
   "name": "python3"
  },
  "language_info": {
   "codemirror_mode": {
    "name": "ipython",
    "version": 3
   },
   "file_extension": ".py",
   "mimetype": "text/x-python",
   "name": "python",
   "nbconvert_exporter": "python",
   "pygments_lexer": "ipython3",
   "version": "3.8.5"
  }
 },
 "nbformat": 4,
 "nbformat_minor": 5
}
